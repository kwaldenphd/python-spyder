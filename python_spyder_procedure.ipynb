{
  "nbformat": 4,
  "nbformat_minor": 0,
  "metadata": {
    "colab": {
      "name": "python-spyder-procedure.ipynb",
      "provenance": [],
      "toc_visible": true,
      "authorship_tag": "ABX9TyPCC0C87S0NCRwC95qjZcsE",
      "include_colab_link": true
    },
    "kernelspec": {
      "name": "python3",
      "display_name": "Python 3"
    },
    "language_info": {
      "name": "python"
    }
  },
  "cells": [
    {
      "cell_type": "markdown",
      "metadata": {
        "id": "view-in-github",
        "colab_type": "text"
      },
      "source": [
        "<a href=\"https://colab.research.google.com/github/kwaldenphd/python-spyder/blob/main/python_spyder_procedure.ipynb\" target=\"_parent\"><img src=\"https://colab.research.google.com/assets/colab-badge.svg\" alt=\"Open In Colab\"/></a>"
      ]
    },
    {
      "cell_type": "markdown",
      "source": [
        "# Python in Spyder\n",
        "\n",
        "<a href=\"http://creativecommons.org/licenses/by-nc/4.0/\" rel=\"license\"><img style=\"border-width: 0;\" src=\"https://i.creativecommons.org/l/by-nc/4.0/88x31.png\" alt=\"Creative Commons License\" /></a>\n",
        "This tutorial is licensed under a <a href=\"http://creativecommons.org/licenses/by-nc/4.0/\" rel=\"license\">Creative Commons Attribution-NonCommercial 4.0 International License</a>."
      ],
      "metadata": {
        "id": "270bDsgPgrab"
      }
    },
    {
      "cell_type": "markdown",
      "source": [
        "## Lab Goals\n",
        "\n",
        "This lab covers installing Anaconda and getting started in the Spyder IDE. The lab also covers stepwise debugging and the `log()` function.\n",
        "\n",
        "By the end of this lab, students will be able to:\n",
        "- Install Spyder in their local environment\n",
        "- Understand the core components of the Spyder IDE\n",
        "- Understand the conceptual elements of step-wise debugging\n",
        "- Understand how to use step-wise debugging in the Spyder IDE"
      ],
      "metadata": {
        "id": "QTGP1Rs_gvxZ"
      }
    },
    {
      "cell_type": "markdown",
      "source": [
        "## Acknowledgements\n",
        "\n",
        "Peer review and editing was provided by Spring 2021 graduate teaching assistants [Subhadyuti Sahoo](https://github.com/SDSAHOO703) and [Aidan Draper](https://github.com/adraper2).\n",
        "\n",
        "Information and exercises in this lab are adapted from the following texts:\n",
        "- Al Sweigart's [*Automate the Boring Stuff With Python*](https://nostarch.com/automatestuff2) (No Starch Press, 2020).\n",
        "  * Chapter 11, \"Debugging\" (249-266)\n",
        "\n",
        "The author consulted the following texts when writing this tutorial:\n",
        "- Allen Downey, [*Think Python: How to Think Like a Computer Scientist*](https://www.oreilly.com/library/view/think-python-2nd/9781491939406/) (O'Reilly, 2015).\n",
        "  * Chapter 2 \"Variables, Expressions and Statements\" (11-20)\n",
        "- Quinn Dombrowski, Tassie Gniady, and David Kloster, \"Introduction to Jupyter Notebooks,\" *The Programming Historian* 8 (2019), https://doi.org/10.46430/phen0087"
      ],
      "metadata": {
        "id": "MRD5uZ4-gx_k"
      }
    },
    {
      "cell_type": "markdown",
      "source": [
        "# Lab notebook templates\n",
        "\n",
        "[Google Doc template for Q1-Q7](https://docs.google.com/document/d/1uzSvhUaZngfGB9t-HCLK3YWNfMbyNPL9plQyh4Jm4zg/copy)\n",
        "\n",
        "[`.py` template for Q1-Q8](https://drive.google.com/file/d/1uE_2ue3CydJYOPLLtKZLz0zY37MLGSnT/view?usp=sharing)\n",
        "\n",
        "[`.py` template for just Q8](https://drive.google.com/file/d/1UvqINgtcJL1-UHX6pT0KlvxjSGiKySzT/view?usp=sharing)\n",
        "\n",
        "[Jupyter Notebook (`.ipynb`) template for Q1-Q8](https://colab.research.google.com/drive/1oLcEdU1z4TfGaspRfDh_r4tRTQ5bwW6r?usp=sharing)"
      ],
      "metadata": {
        "id": "S387tNmsg-Wm"
      }
    },
    {
      "cell_type": "markdown",
      "source": [
        "# Different types of Python environments\n",
        "\n",
        "1. Up to this point, we have used the browser-based IDE [Replit](https://repl.it/).\n",
        "\n",
        "2. What is an IDE? \"An integrated development environment (IDE) is a software application that provides comprehensive facilities to computer programmers for software development. An IDE normally consists of at least a source code editor, build automation tools and a debugger\" ([Wikipedia](https://en.wikipedia.org/wiki/Integrated_development_environment)).\n",
        "\n",
        "3. An IDE can include features like syntax highlighting, code completion, version control, and debugging.\n",
        "\n",
        "5. There are a WIDE range of IDEs that are proprietary or open-source, tailored to a specific language or able to work across languages.\n",
        "\n",
        "5. Some common IDEs include Eclipse, Geany, Brackets, Atom, PyCharm, Spyder, RStudio, etc. For more in IDEs, visit Wikipedia's [\"Comparison of integrated development environments\"](https://en.wikipedia.org/wiki/Comparison_of_integrated_development_environments) page.\n",
        "\n",
        "6. Replit (generally) worked for (most of) our needs. But it ran into problems with more complex programs or programs involving external files/datasets/etc. \n",
        "\n",
        "7. Now, we're going to install Python on your local computer, using a distribution called Anaconda.\n",
        "\n",
        "8. What is Anaconda? \"Anaconda is a open-source distribution of the Python and R programming languages for scientific computing (data science, machine learning applications, large-scale data processing, predictive analytics, etc.), that aims to simplify package management and deployment. The distribution includes data-science packages suitable for Windows, Linux, and macOS. It is developed and maintained by Anaconda, Inc., which was founded by Peter Wang and Travis Oliphant in 2012\" ([Wikipedia](https://en.wikipedia.org/wiki/Anaconda_(Python_distribution))).\n",
        "\n",
        "9. The Anaconda environment includes a number of specific tools and programs, including:\n",
        "- JupyterLab\n",
        "- Jupyter Notebook\n",
        "- Qt Console\n",
        "- Spyder\n",
        "- Glue\n",
        "- Orange\n",
        "- RStudio\n",
        "- Visual Code Studio\n",
        "\n",
        "10. In this lab, we'll be focusing on the Spyder IDE."
      ],
      "metadata": {
        "id": "ptyXT8w-hB-n"
      }
    },
    {
      "cell_type": "markdown",
      "source": [
        "# Installing Anaconda\n",
        "\n",
        "<p align=\"center\"><a href=\"https://github.com/kwaldenphd/python-spyder/blob/main/images/Figure_1.png?raw=true\"><img class=\"aligncenter\" src=\"https://github.com/kwaldenphd/python-spyder/blob/main/images/Figure_1.png?raw=true\" /></a></p>\n",
        "\n",
        "Windows/PC instructions:\n",
        "- Anaconda Documentation, [\"Installing on Windows\"](https://docs.anaconda.com/anaconda/install/windows/) *Anaconda* (2020).\n",
        "- ProgrammingKnowledge, [\"Install Anaconda Python, Jupyter Notebook and Spyder on Windows 10\"](https://youtu.be/5mDYijMfSzs) *YouTube video* (4 September 2018).\n",
        "\n",
        "Mac OS instructions:\n",
        "- Anaconda Documentation, [\"Installing on macOS\"](https://docs.anaconda.com/anaconda/install/mac-os/) *Anaconda* (2020).\n",
        "- Understanding Data, [\"Easily Install Anaconda Python Distribution On Mac OS X\"](https://youtu.be/V6ZAv7hBH6Y) *YouTube video* (16 October 2019).\n",
        "\n",
        "Chromebook instructions:\n",
        "- Alex P. Miller, [\"Data Science on a Chromebook: How to run Jupyter, Python, and R locally in ChromeOS\"](https://alex.miller.im/posts/data-science-chromebook-pixelbook-jupyter-python-r/) *personal blog* (6 March 2019).\n",
        "- Noebrian, [\"Installing Anaconda on a Chromebook\"](https://chromebook.home.blog/2019/01/20/installing-anaconda-on-a-chromebook-no-dev-beta-or-crouton-needed/) *ChromeBooks* (20 January 2019).\n",
        "\n",
        "To install Spyder as a stand-alone program: https://www.spyder-ide.org/"
      ],
      "metadata": {
        "id": "yYTFi1EZiJA3"
      }
    },
    {
      "cell_type": "markdown",
      "source": [
        "# Python in Spyder\n",
        "\n",
        "11. What is Spyder? \n",
        "\n",
        "12. \"Spyder is a free and open source scientific environment written in Python, for Python, and designed by and for scientists, engineers and data analysts. It features a unique combination of the advanced editing, analysis, debugging, and profiling functionality of a comprehensive development tool with the data exploration, interactive execution, deep inspection, and beautiful visualization capabilities of a scientific package\" ([Spyder documentation](https://www.spyder-ide.org/)).\n",
        "\n",
        "13. Spyder's core components include:\n",
        "- Editor\n",
        "- IPython console\n",
        "- Variable explorer\n",
        "- Plots\n",
        "- Debugger\n",
        "- Help\n",
        "\n",
        "14. These robust Python features in Spyder will be incredibly useful as we start to do more work with datasets, visualizations (plots), and debugging in more complex programming environments.\n",
        "\n",
        "<p align=\"center\"><a href=\"https://github.com/kwaldenphd/python-spyder/blob/main/images/Figure_1.png?raw=true\"><img class=\"aligncenter\" src=\"https://github.com/kwaldenphd/python-spyder/blob/main/images/Figure_1.png?raw=true\" /></a></p>\n",
        "\n",
        "<p align=\"center\"><a href=\"https://github.com/kwaldenphd/python-spyder/blob/main/images/Figure_2.png?raw=true\"><img class=\"aligncenter\" src=\"https://github.com/kwaldenphd/python-spyder/blob/main/images/Figure_2.png?raw=true\" /></a></p>\n",
        "\n",
        "15. Open the Anaconda navigator and select the option to launch Spyder.\n",
        "\n",
        "<p align=\"center\"><a href=\"https://github.com/kwaldenphd/python-spyder/blob/main/images/Figure_2a.png?raw=true\"><img class=\"aligncenter\" src=\"https://github.com/kwaldenphd/python-spyder/blob/main/images/Figure_2a.png?raw=true\" /></a></p>\n",
        "\n",
        "16. Spyder has three default panes that show up when you launch the program.\n",
        "\n",
        "17. Your `.py` file shows up on the left-hand side of the program window. \n",
        "\n",
        "18. This is where you will write Python code. \n",
        "\n",
        "19. You can have multiple `.py` files open in Spyder and navigate between the tabs. \n",
        "\n",
        "20. The top-right pane has four default options:\n",
        "- Variable explorer, which lets you see named variables in your program\n",
        "- Help, which provides additional documentation, information, or resources\n",
        "- Plots, which will show visualizations generated by your program\n",
        "- Files, which will show all files currently open or active in your Spyder workspace\n",
        "\n",
        "21. The bottom-right pane is the Console, which lets you execute and test Python commands. You can have multiple consoles open simultaneously.\n",
        "\n",
        "22. So how is the Console different from your `.py` file?\n",
        "\n",
        "23. In the `.py` file you are writing a Python program that will run or execute when the file is called. You make updates to that file, save changes, etc.\n",
        "\n",
        "24. The Console lets you execute Python commands but is not saving those commands as part of a `.py` file. \n",
        "\n",
        "25. Great for testing. Less great for building out complex programs.\n",
        "\n",
        "26. NOTE: When we were working in Replit, all files that were part of our Python project were in the same virtual workspace. \n",
        "\n",
        "27. That's not going to be the case when working in a desktop IDE like Spyder. \n",
        "\n",
        "28. Think of this as the difference between working with files in Google Drive versus on your local computer. \n",
        "\n",
        "29. You can set a working directory, which is where Spyder will look for external files you are wanting to access from within a Python program. The working directory is also where Python will save `.py` files you build.\n",
        "\n",
        "<p align=\"center\"><a href=\"https://github.com/kwaldenphd/python-spyder/blob/main/images/Figure_2c.png?raw=true\"><img class=\"aligncenter\" src=\"https://github.com/kwaldenphd/python-spyder/blob/main/images/Figure_2c.png?raw=true\" /></a></p>\n",
        "\n",
        "30. Click on the folder icon in the top-right hand corner of Spyder (next to the arrow icon) to set a working directory. It doe--where you save `.py` files and other files (think data files) you might be wanting to access as part of a Python program.\n",
        "\n",
        "31. Now, files don't have to be in your current working directory for you to access them in Python. But you'll need to provide the full file path (i.e. location information or directory information for where that file is located on your computer).\n",
        "\n",
        "32. Go ahead and create an `EoC_II` folder and set that folder as your working directory in Spyder. \n",
        "\n",
        "33. It might also be a good idea to start creating lab-specific sub-folders within your `EoC_II` parent folder. \n",
        "\n",
        "34. This will help with organization as we move through labs and work with a variety of sample files and datasets.\n",
        "\n",
        "<blockquote>Q1: Work through the <a href=\"https://docs.spyder-ide.org/current/videos/first-steps-with-spyder.html\">\"First Steps with Spyder\"</a>resources provided in the Spyder documentation. That includes two 3.5 minute videos that introduce you to the basics of the Spyder IDE and how to get started with Python in Spyder. Describe your experience getting  started with Spyder using  these materials/resources.</blockquote>\n",
        "\n",
        "<blockquote>Q2: How is Spyder different than previous IDEs? What do you see as strengths/advantages? What do you see as possible challenges?</blockquote>\n",
        "\n",
        "<blockquote>OPTIONAL: Take a <code>.py</code> lab notebook file and load it into Spyder. Explore how the program runs in a different IDE. In particular, explore Spyder's options to run portions or a selection of the larger program. How does this change the way you interact with the program?</blockquote>"
      ],
      "metadata": {
        "id": "Ummfae68iJ00"
      }
    },
    {
      "cell_type": "markdown",
      "source": [
        "## Installing packages in Spyder\n",
        "\n",
        "35. From the Anaconda navigator, you can select the option to launch a terminal.\n",
        "\n",
        "36. In that terminal, you can use `pip install package-name` to install any needed packages.\n",
        "\n",
        "37. You can check what packages are installed using the terminal or the GUI \"Environments\" option.\n",
        "\n",
        "38. You can also let Anaconda manage your packages with the conda package manager.\n",
        "\n",
        "39. Most packages will have an alternate install syntax for conda that starts with `conda install package-name`.\n",
        "\n",
        "40. NOTE: Installing packages using `conda` only installs the package in the Anaconda environment. `pip` installs the package in any environment.\n",
        "\n",
        "41. For more on the conda package manager: \n",
        "- [Anaconda Documentation, Installing conda packages](https://docs.anaconda.com/anaconda/user-guide/tasks/install-packages/)\n",
        "- Jake VanderPlas, [\"Conda: Myths and Misconceptions\"](https://jakevdp.github.io/blog/2016/08/25/conda-myths-and-misconceptions/) *Pythonic Perambulations personal blog* (25 August 2016)"
      ],
      "metadata": {
        "id": "XucK9YgGiOMZ"
      }
    },
    {
      "cell_type": "markdown",
      "source": [
        "# Debugging\n",
        "\n",
        "42. To paraphrase an old programming joke, writing code is 90% of the work of programming. Debugging is the other 90%.\n",
        "\n",
        "43. You've been working on a program for hours, your head hurts, and something still isn't working. We all know a version of that feeling.\n",
        "\n",
        "44. There's no easy solution that will prevent all problems (or \"bugs\") in your code. But having strategies for testing your code, recognizing and making sense of error messages, and methodically debugging your code can help immensely.\n",
        "\n",
        "45. Python errors will usually fall into three types: syntax, runtime, and semantic.\n",
        "\n",
        "46. Syntax refers to the structure of a program and rules about that structure. \n",
        "\n",
        "47. ***Syntax errors*** involve things like indentation, parenthesis, etc. The Python interpreter expects the language to be structured a specific way, and throws a syntax error when it's not.\n",
        "\n",
        "48. ***Runtime errors***, or ***exceptions***: appears after a program has started running. These errors indicate something unexpected has happened that interrupts or stops the program execution. \n",
        "\n",
        "49. Things that can cause a runtime error include:\n",
        "- Misspelled or incorrectly capitalized variables or function names\n",
        "- Dividing by zero\n",
        "- Mismatched data types (i.e. attempting to perform operations on data of the wrong type)\n",
        "- Attempting to use a type conversion function on a value that can't be converted\n",
        "\n",
        "50. Semantic: relates to meaning. \n",
        "\n",
        "51. ***Semantic errors*** have to do with the meaning (or purpose/intent) of your code. Semantic errors don't show up as error messages-but the program will not do what you expect it to do. \n",
        "\n",
        "52. The debugging strategies discussed here will focus on semantic errors but are useful for all types of errors.\n"
      ],
      "metadata": {
        "id": "tzlfNqgYiRwK"
      }
    },
    {
      "cell_type": "markdown",
      "source": [
        "## Stepwise debugging in Spyder\n",
        "\n",
        "53. Spyder will catch many syntax and runtime errors. \n",
        "\n",
        "54. Hover over a red `X` by any of your lines of code to see more information about a possible error.\n",
        "\n",
        "55. Spyder integrates the enhanced `ipdb` debugger, which gives you robust options for troubleshooting or debugging your code.\n",
        "\n",
        "56. Specifically, the debugger will let you run a program line by line, running a single line of code and waiting for you to tell it to continue.\n",
        "\n",
        "57. Running your program through this kind of debugging is immensely valuable for tracking down bugs or catching complex issues in a program.\n",
        "\n",
        "58. This mode of debugging includes the following possible steps or \"moves\":\n",
        "- Continue (run the program until the next breakpoint)\n",
        "- Step in (executes the next line of code; if the next line of code is a function, the debugger will 'step into' the first line of that function)\n",
        "- Step over (executes the next line of code, but will not go line-by-line through the function; the debugger 'steps over' the function code and waits for the function call to return)\n",
        "- Step out (lets you step out of a function if you used step in and want to 'step out' of the function)\n",
        "- Stop (stops debugging and terminates the program)\n",
        "\n",
        "<p align=\"center\"><a href=\"https://github.com/kwaldenphd/python-spyder/blob/main/images/Figure_3.png?raw=true\"><img class=\"aligncenter\" src=\"https://github.com/kwaldenphd/python-spyder/blob/main/images/Figure_3.png?raw=true\" /></a></p>\n",
        "\n",
        "<p align=\"center\"><a href=\"https://github.com/kwaldenphd/python-spyder/blob/main/images/Figure_4.png?raw=true\"><img class=\"aligncenter\" src=\"https://github.com/kwaldenphd/python-spyder/blob/main/images/Figure_4.png?raw=true\" /></a></p>\n",
        "\n",
        "59. Let's use this approach and Spyder functionality to debug a number adding program."
      ],
      "metadata": {
        "id": "_nnvHVvDiTit"
      }
    },
    {
      "cell_type": "code",
      "execution_count": null,
      "metadata": {
        "id": "bQjrAcFLS6Uu"
      },
      "outputs": [],
      "source": [
        "print('Enter the first number to add: ')\n",
        "first = input()\n",
        "print('Enter the second number to add: ')\n",
        "second = input()\n",
        "print('Enter the third number to add: ')\n",
        "third = input()\n",
        "print('The sum is ' + first + second + third)"
      ]
    },
    {
      "cell_type": "markdown",
      "source": [
        "60. First run the program without the debugger enabled. What happens?\n",
        "\n",
        "61. Debug the file going line-by-line. Remember to use `Step Over` to execute functions without going into each line of the function code.\n",
        "- Functions in this sample program include `print()` and `input()`\n",
        "- You can always `Step Out` if you accidently step into a function\n",
        "\n",
        "<blockquote>Q3: What type of error does this program return (syntax, runtime, semantic) and why? How would we go about modifying the program to address this error?</blockquote>\n",
        "\n",
        "## Other approaches to debugging\n",
        "\n",
        "62. If you've never put a `print()` statement in your code to output a variable's value while the program is running, you have used a form of `logging` to debug your code.\n",
        "\n",
        "63. Python's `logging` module lets you record custom messages that output as part of your program. \n",
        "\n",
        "64. These `log` messages describe when the program reaches a point where a logging function is called and what variables have been specified at that point.\n",
        "\n",
        "65. Step one is to import the `logging` module and set up basic configuration for the module at the top of your `.py` file."
      ],
      "metadata": {
        "id": "81nFN7NOVLEa"
      }
    },
    {
      "cell_type": "code",
      "source": [
        "import logging\n",
        "logging.basicConfig(level=logging.DEBUG, format=' %(asctime)s - %(levelname)s - %(message)s')"
      ],
      "metadata": {
        "id": "LlEZlKmMVM76"
      },
      "execution_count": null,
      "outputs": []
    },
    {
      "cell_type": "markdown",
      "source": [
        "66. This configuration information instructs Python to create a `LogRecord` object when a logging function is called, and to include specific information about that event in the `LogRecord` object.\n",
        "\n",
        "67. So how would we use the `logging` module when writing a program?\n",
        "\n",
        "68. Say we were creating a function that calcualted the factorial of a given number.\n",
        "- Factorial 4 is 1 x 2 x 3 x 4 = 24\n",
        "- Factorial 7 is 1 x 2 x 3 x 4 x 5 x 6 x 7 = 5040"
      ],
      "metadata": {
        "id": "bWsNTfcIVOf2"
      }
    },
    {
      "cell_type": "code",
      "source": [
        "import logging\n",
        "logging.basicConfig(level=logging.DEBUG, format=' %(asctime)s - %(levelname)s - %(message)s')\n",
        "logging.debug('Start of program')\n",
        "\n",
        "def factorial(n):\n",
        "  logging.debug('Start of factorial(%s%%)' % (n))\n",
        "  total = 1\n",
        "  for i in range(n + 1):\n",
        "    total *= i\n",
        "    logging.debug('i is ' + str(i) + ', total is ' + str(total))\n",
        "  logging.debug('End of factorial(%s%%)' % (n))\n",
        "  return total\n",
        "\n",
        "print(factorial(5))\n",
        "logging.debug('End of program')"
      ],
      "metadata": {
        "id": "zHEc-1U_VQUA"
      },
      "execution_count": null,
      "outputs": []
    },
    {
      "cell_type": "markdown",
      "source": [
        "69. Anytime we call the `logging.debug()` function, the configuration information from the start of the file governs the log formatting and messages.\n",
        "\n",
        "<blockquote>Q4: What happens when we run this program? What kinds of log messages do we get, and what information do they give us?</blockquote>\n",
        "\n",
        "<blockquote>Q5: Is this program doing what we expect? Where would you go next with debugging or addressing the error?</blockquote>\n",
        "\n",
        "## But why can't I debug using `print()`\n",
        "\n",
        "70. It can seem unwieldy to configure the `logging` module and write lines of code dedicated just to logging what's happening in your program.\n",
        "\n",
        "71. But think about the factorial example. Log messages led us right to the program's issue. \n",
        "\n",
        "72. Trying to debug using `print()` calls means you'll have to go back through each line of your program to remove `print()` statements used for debugging (while also making sure you aren't removing `print()` statements that are a component of the actual program).\n",
        "\n",
        "73. Think of the `logging` module as a report that generates alongside your program output as it executes. The program executes and you also have useful log information about what happened along the way.\n",
        "\n",
        "74. Once you're done debugging the program, you can add the `logging.disable()` function to the start of your program to supress the log messages without actually having to modify your program.\n",
        "\n",
        "<blockquote>Visit Python's <a href=\"https://docs.python.org/3/howto/logging.html\">Logging HOWTO</a> documentation to learn more about the logging module.</blockquote>\n",
        "\n",
        "<blockquote>Q6: What are your thoughts on this approach to identifying what's happening in your program? What seems appealing? What seems challenging? When or how could this approach be useful?</blockquote>\n",
        "\n",
        "<blockquote>Q7: Compare your experience working in different Python IDEs. What seems appealing about each? What seems challenging? Based on this experience, what is your preference, or are there situations in which you'd prefer one over the other?</blockquote>"
      ],
      "metadata": {
        "id": "7ikNDGnGifOe"
      }
    },
    {
      "cell_type": "markdown",
      "source": [
        "# Python Refresh\n",
        "\n",
        "75. The last thing we'll do in this lab is make sure you're comfortable with a few core elements of Python syntax. \n",
        "\n",
        "76. For each component, you're asked to describe the concept in your own words and write an example of the concept using Python syntax.\n",
        "\n",
        "77. Reusing programs you wrote for Elements I labs is absolutely fine. Consulting Elements I lab procedures/documentation is also fine.\n",
        "\n",
        "77. You can submit this portion of the lab as a `.py` or `.ipynb` file- whatever is easiest. But I encourage folks to use these tasks as an opportunity to get more familiar/comfortable with Spyder.\n",
        "\n",
        "<blockquote>Q8: For each concept, describe in your own words and provide an example using Python syntax. Use comments/narrative text to note each part of your answer.\n",
        "<ol type=\"a\">\n",
        "<li><a href=\"https://github.com/kwaldenphd/python-intro#your-first-program\"><code>print</code>statement</a></li>\n",
        "<li><a href=\"https://github.com/kwaldenphd/python-intro#variables-and-types\">string variable</a></li>\n",
        "<li><a href=\"https://github.com/kwaldenphd/python-intro#variables-and-types\">integer variable</a></li>\n",
        "<li><a href=\"https://github.com/kwaldenphd/python-lists-strings#concatenation\">concatenation</a></li>\n",
        "<li><a href=\"https://github.com/kwaldenphd/python-intro#operators\">arithmetic operators</a></li>\n",
        "<li><a href=\"https://github.com/kwaldenphd/python-intro#operators\">comparison operators</a></li>\n",
        "<li><a href=\"https://github.com/kwaldenphd/python-lists-strings\">list</a></li>\n",
        "<li><a href=\"https://github.com/kwaldenphd/python-dictionaries-sets#dictionaries\">dictionary</a></li>\n",
        "<li><a href=\"https://github.com/kwaldenphd/python-conditional-statements#table-of-contents\"><code>if, else, elif</code> statements</a></li>\n",
        "<li><a href=\"https://github.com/kwaldenphd/python-conditional-statements#table-of-contents\"><code>for</code> loop</a></li>\n",
        "<li><a href=\"https://github.com/kwaldenphd/python-conditional-statements#table-of-contents\"><code>while</code> loop</a></li>\n",
        "<li><a href=\"https://github.com/kwaldenphd/python-functions\">functions</a></li>\n",
        "<li><a href=\"https://github.com/kwaldenphd/pandas-intro\">Pandas <code>dataframe</code></a></li>\n",
        "</ol>\n",
        "</blockquote>"
      ],
      "metadata": {
        "id": "dBjt2K5BiiKc"
      }
    },
    {
      "cell_type": "markdown",
      "source": [
        "# Lab notebook questions\n",
        "\n",
        "Lab notebook templates:\n",
        "- [Google Doc template for Q1-Q7](https://docs.google.com/document/d/1uzSvhUaZngfGB9t-HCLK3YWNfMbyNPL9plQyh4Jm4zg/copy)\n",
        "- [`.py` template for Q1-Q8](https://drive.google.com/file/d/1uE_2ue3CydJYOPLLtKZLz0zY37MLGSnT/view?usp=sharing)\n",
        "- [`.py` template for just Q8](https://drive.google.com/file/d/1UvqINgtcJL1-UHX6pT0KlvxjSGiKySzT/view?usp=sharing)\n",
        "- [Jupyter Notebook (`.ipynb`) template for Q1-Q8](https://colab.research.google.com/drive/1oLcEdU1z4TfGaspRfDh_r4tRTQ5bwW6r?usp=sharing)\n",
        "\n",
        "Q1: Work through the <a href=\"https://docs.spyder-ide.org/current/videos/first-steps-with-spyder.html\">\"First Steps with Spyder\"</a>resources provided in the Spyder documentation. That includes two 3.5 minute videos that introduce you to the basics of the Spyder IDE and how to get started with Python in Spyder. Describe your experience getting  started with Spyder using  these materials/resources.\n",
        "\n",
        "Q2: How is Spyder different than previous IDEs? What do you see as strengths/advantages? What do you see as possible challenges?\n",
        "\n",
        "Q3: What type of error does this program return (syntax, runtime, semantic) and why? How would we go about modifying the program to address this error?\n",
        "\n",
        "```Python\n",
        "print('Enter the first number to add: ')\n",
        "first = input()\n",
        "print('Enter the second number to add: ')\n",
        "second = input()\n",
        "print('Enter the third number to add: ')\n",
        "third = input()\n",
        "print('The sum is ' + first + second + third)\n",
        "```\n",
        "\n",
        "Q4: What happens when we run this program? What kinds of log messages do we get, and what information do they give us?\n",
        "\n",
        "```Python\n",
        "import logging\n",
        "logging.basicConfig(level=logging.DEBUG, format=' %(asctime)s - %(levelname)s - %(message)s')\n",
        "logging.debug('Start of program')\n",
        "\n",
        "def factorial(n):\n",
        "  logging.debug('Start of factorial(%s%%)' % (n))\n",
        "  total = 1\n",
        "  for i in range(n + 1):\n",
        "    total *= i\n",
        "    logging.debug('i is ' + str(i) + ', total is ' + str(total))\n",
        "  logging.debug('End of factorial(%s%%)' % (n))\n",
        "  return total\n",
        "\n",
        "print(factorial(5))\n",
        "logging.debug('End of program')\n",
        "```\n",
        "\n",
        "Q5: Is this program doing what we expect? Where would you go next with debugging or addressing the error?\n",
        "\n",
        "Q6: What are your thoughts on this approach to identifying what's happening in your program? What seems appealing? What seems challenging? When or how could this approach be useful?\n",
        "\n",
        "Q7: Compare your experience working in different Python IDEs. What seems appealing about each? What seems challenging? Based on this experience, what is your preference, or are there situations in which you'd prefer one over the other?\n",
        "\n",
        "Q8: For each concept, describe in your own words and provide an example using Python syntax. Use comments/narrative text to note each part of your answer.\n",
        "<ol type=\"a\">\n",
        "<li><a href=\"https://github.com/kwaldenphd/python-intro#your-first-program\"><code>print</code>statement</a></li>\n",
        "<li><a href=\"https://github.com/kwaldenphd/python-intro#variables-and-types\">string variable</a></li>\n",
        "<li><a href=\"https://github.com/kwaldenphd/python-intro#variables-and-types\">integer variable</a></li>\n",
        "<li><a href=\"https://github.com/kwaldenphd/python-lists-strings#concatenation\">concatenation</a></li>\n",
        "<li><a href=\"https://github.com/kwaldenphd/python-intro#operators\">arithmetic operators</a></li>\n",
        "<li><a href=\"https://github.com/kwaldenphd/python-intro#operators\">comparison operators</a></li>\n",
        "<li><a href=\"https://github.com/kwaldenphd/python-lists-strings\">list</a></li>\n",
        "<li><a href=\"https://github.com/kwaldenphd/python-dictionaries-sets#dictionaries\">dictionary</a></li>\n",
        "<li><a href=\"https://github.com/kwaldenphd/python-conditional-statements#table-of-contents\"><code>if, else, elif</code> statements</a></li>\n",
        "<li><a href=\"https://github.com/kwaldenphd/python-conditional-statements#table-of-contents\"><code>for</code> loop</a></li>\n",
        "<li><a href=\"https://github.com/kwaldenphd/python-conditional-statements#table-of-contents\"><code>while</code> loop</a></li>\n",
        "<li><a href=\"https://github.com/kwaldenphd/python-functions\">functions</a></li>\n",
        "<li><a href=\"https://github.com/kwaldenphd/pandas-intro\">Pandas <code>dataframe</code></a></li>\n",
        "</ol>"
      ],
      "metadata": {
        "id": "Mw5q4YQZipSn"
      }
    }
  ]
}