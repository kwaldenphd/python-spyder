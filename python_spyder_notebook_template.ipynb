{
  "nbformat": 4,
  "nbformat_minor": 0,
  "metadata": {
    "colab": {
      "name": "python-spyder-notebook-template.ipynb",
      "provenance": [],
      "toc_visible": true,
      "authorship_tag": "ABX9TyNDKDmSKGYi0DPo32Ej0+jU",
      "include_colab_link": true
    },
    "kernelspec": {
      "name": "python3",
      "display_name": "Python 3"
    },
    "language_info": {
      "name": "python"
    }
  },
  "cells": [
    {
      "cell_type": "markdown",
      "metadata": {
        "id": "view-in-github",
        "colab_type": "text"
      },
      "source": [
        "<a href=\"https://colab.research.google.com/github/kwaldenphd/python-spyder/blob/main/python_spyder_notebook_template.ipynb\" target=\"_parent\"><img src=\"https://colab.research.google.com/assets/colab-badge.svg\" alt=\"Open In Colab\"/></a>"
      ]
    },
    {
      "cell_type": "markdown",
      "source": [
        "# Python in Spyder (EoC)\n",
        "\n",
        "Student name: **Enter your name here** (double click to edit)\n",
        "\n",
        "Net ID: **Enter your NetID here** (double click to edit)"
      ],
      "metadata": {
        "id": "6RGvka06V5bz"
      }
    },
    {
      "cell_type": "markdown",
      "source": [
        "## Lab Notebook Questions"
      ],
      "metadata": {
        "id": "YMLv_23-ZQ56"
      }
    },
    {
      "cell_type": "markdown",
      "source": [
        "### **Q1: Work through the <a href=\"https://docs.spyder-ide.org/current/videos/first-steps-with-spyder.html\">\"First Steps with Spyder\"</a> resources provided in the Spyder documentation. That includes two 3.5 minute videos that introduce you to the basics of the Spyder IDE and how to get started with Python in Spyder. Describe your experience getting  started with Spyder using  these materials/resources.**"
      ],
      "metadata": {
        "id": "TU8VdOenZTLj"
      }
    },
    {
      "cell_type": "markdown",
      "source": [
        "**Answer Q1:** Your answer here (double click to edit)\n",
        "\n"
      ],
      "metadata": {
        "id": "ZRftVHWIWMrC"
      }
    },
    {
      "cell_type": "markdown",
      "source": [
        "### **Q2: How is Spyder different than previous IDEs? What do you see as strengths/advantages? What do you see as possible challenges?**"
      ],
      "metadata": {
        "id": "HV3bt5MIWSi0"
      }
    },
    {
      "cell_type": "markdown",
      "source": [
        "**Answer Q2:** Your answer here (double click to edit)\n"
      ],
      "metadata": {
        "id": "RVyNsiziWVDc"
      }
    },
    {
      "cell_type": "markdown",
      "source": [
        "### **Q3: What type of error does this program return (syntax, runtime, semantic) and why? How would we go about modifying the program to address this error?**"
      ],
      "metadata": {
        "id": "gJtDv7WcWas7"
      }
    },
    {
      "cell_type": "code",
      "source": [
        "print('Enter the first number to add: ')\n",
        "first = input()\n",
        "print('Enter the second number to add: ')\n",
        "second = input()\n",
        "print('Enter the third number to add: ')\n",
        "third = input()\n",
        "print('The sum is ' + first + second + third)"
      ],
      "metadata": {
        "id": "NDwjNfFJWclC"
      },
      "execution_count": null,
      "outputs": []
    },
    {
      "cell_type": "markdown",
      "source": [
        "**Answer Q3:** Your answer here (double click to edit)"
      ],
      "metadata": {
        "id": "HpF4MFkLWgEJ"
      }
    },
    {
      "cell_type": "markdown",
      "source": [
        "### **Q4: What happens when we run this program? What kinds of log messages do we get, and what information do they give us?**"
      ],
      "metadata": {
        "id": "TVI8kzV3WkRK"
      }
    },
    {
      "cell_type": "code",
      "source": [
        "import logging\n",
        "logging.basicConfig(level=logging.DEBUG, format=' %(asctime)s - %(levelname)s - %(message)s')\n",
        "logging.debug('Start of program')\n",
        "\n",
        "def factorial(n):\n",
        "  logging.debug('Start of factorial(%s%%)' % (n))\n",
        "  total = 1\n",
        "  for i in range(n + 1):\n",
        "    total *= i\n",
        "    logging.debug('i is ' + str(i) + ', total is ' + str(total))\n",
        "  logging.debug('End of factorial(%s%%)' % (n))\n",
        "  return total\n",
        "\n",
        "print(factorial(5))\n",
        "logging.debug('End of program')"
      ],
      "metadata": {
        "id": "XAogfQpbWm3n"
      },
      "execution_count": null,
      "outputs": []
    },
    {
      "cell_type": "markdown",
      "source": [
        "**Answer Q4:** Your answer here (double click to edit)"
      ],
      "metadata": {
        "id": "oEhVg-x4Wx7t"
      }
    },
    {
      "cell_type": "markdown",
      "source": [
        "### **Q5: Is this program (see above) doing what we expect? Where would you go next with debugging or addressing the error?**"
      ],
      "metadata": {
        "id": "2eyXkA7TW2AK"
      }
    },
    {
      "cell_type": "markdown",
      "source": [
        "**Answer Q5:** Your answer here (double click to edit)"
      ],
      "metadata": {
        "id": "NGzdCS8iXHyo"
      }
    },
    {
      "cell_type": "markdown",
      "source": [
        "### **Q6: What are your thoughts on this approach to identifying what's happening in your program? What seems appealing? What seems challenging? When or how could this approach be useful?**"
      ],
      "metadata": {
        "id": "X-u4W5wSXLnH"
      }
    },
    {
      "cell_type": "markdown",
      "source": [
        "**Answer Q6:** Your answer here (double click to edit)"
      ],
      "metadata": {
        "id": "ZyO77qONXTQL"
      }
    },
    {
      "cell_type": "markdown",
      "source": [
        "### **Q7: Compare your experience working in different Python IDEs. What seems appealing about each? What seems challenging? Based on this experience, what is your preference, or are there situations in which you'd prefer one over the other?**"
      ],
      "metadata": {
        "id": "tjzD3uMsXU-J"
      }
    },
    {
      "cell_type": "markdown",
      "source": [
        "**Answer Q7:** Your answer here (double click to edit)"
      ],
      "metadata": {
        "id": "shNc-fZXXaf6"
      }
    },
    {
      "cell_type": "markdown",
      "source": [
        "### <strong>Q8: For each concept, describe in your own words and provide an example using Python syntax. Use comments/narrative text to note each part of your answer.\n",
        "<ol type=\"a\">\n",
        "<li><a href=\"https://github.com/kwaldenphd/python-intro#your-first-program\"><code>print</code>statement</a></li>\n",
        "<li><a href=\"https://github.com/kwaldenphd/python-intro#variables-and-types\">string variable</a></li>\n",
        "<li><a href=\"https://github.com/kwaldenphd/python-intro#variables-and-types\">integer variable</a></li>\n",
        "<li><a href=\"https://github.com/kwaldenphd/python-lists-strings#concatenation\">concatenation</a></li>\n",
        "<li><a href=\"https://github.com/kwaldenphd/python-intro#operators\">arithmetic operators</a></li>\n",
        "<li><a href=\"https://github.com/kwaldenphd/python-intro#operators\">comparison operators</a></li>\n",
        "<li><a href=\"https://github.com/kwaldenphd/python-lists-strings\">list</a></li>\n",
        "<li><a href=\"https://github.com/kwaldenphd/python-dictionaries-sets#dictionaries\">dictionary</a></li>\n",
        "<li><a href=\"https://github.com/kwaldenphd/python-conditional-statements#table-of-contents\"><code>if, else, elif</code> statements</a></li>\n",
        "<li><a href=\"https://github.com/kwaldenphd/python-conditional-statements#table-of-contents\"><code>for</code> loop</a></li>\n",
        "<li><a href=\"https://github.com/kwaldenphd/python-conditional-statements#table-of-contents\"><code>while</code> loop</a></li>\n",
        "<li><a href=\"https://github.com/kwaldenphd/python-functions\">functions</a></li>\n",
        "<li><a href=\"https://github.com/kwaldenphd/pandas-intro\">Pandas <code>dataframe</code></a></li>\n",
        "</ol>\n",
        "\n",
        "Placeholder markdown and code cells for each concept are included below. You can modify or add cells as needed. </strong>"
      ],
      "metadata": {
        "id": "iXdTQLOFXc0N"
      }
    },
    {
      "cell_type": "markdown",
      "source": [
        "**Print statement description**: Double click to edit"
      ],
      "metadata": {
        "id": "7r2gSavDYR4j"
      }
    },
    {
      "cell_type": "code",
      "source": [
        "# print statement"
      ],
      "metadata": {
        "id": "dVk8oZzhXy4f"
      },
      "execution_count": null,
      "outputs": []
    },
    {
      "cell_type": "markdown",
      "source": [
        "**String variable description**: Double click to edit"
      ],
      "metadata": {
        "id": "TfQ2dFjcYXH2"
      }
    },
    {
      "cell_type": "code",
      "source": [
        "# string variable"
      ],
      "metadata": {
        "id": "2RO64TypX6jl"
      },
      "execution_count": null,
      "outputs": []
    },
    {
      "cell_type": "markdown",
      "source": [
        "**Integer variable description**: Double click to edit"
      ],
      "metadata": {
        "id": "h01UBPGCYaZK"
      }
    },
    {
      "cell_type": "code",
      "source": [
        "# integer variable"
      ],
      "metadata": {
        "id": "xJL5vVsBX7yc"
      },
      "execution_count": null,
      "outputs": []
    },
    {
      "cell_type": "markdown",
      "source": [
        "**Concatenation description**: Double click to edit"
      ],
      "metadata": {
        "id": "CoGo9swxYdnb"
      }
    },
    {
      "cell_type": "code",
      "source": [
        "# concatenation"
      ],
      "metadata": {
        "id": "eBwu2peBX81T"
      },
      "execution_count": null,
      "outputs": []
    },
    {
      "cell_type": "markdown",
      "source": [
        "**Arithmetic operators description**: Double click to edit"
      ],
      "metadata": {
        "id": "fDzpjoIAYfMD"
      }
    },
    {
      "cell_type": "code",
      "source": [
        "# arithmetic operators"
      ],
      "metadata": {
        "id": "_qSlteD9X92O"
      },
      "execution_count": null,
      "outputs": []
    },
    {
      "cell_type": "markdown",
      "source": [
        "**Comparison operators description**: Double click to edit"
      ],
      "metadata": {
        "id": "Em01G3AyYhQm"
      }
    },
    {
      "cell_type": "code",
      "source": [
        "# comparison operators"
      ],
      "metadata": {
        "id": "g84Gt0-nX-1D"
      },
      "execution_count": null,
      "outputs": []
    },
    {
      "cell_type": "markdown",
      "source": [
        "**List description**: Double click to edit"
      ],
      "metadata": {
        "id": "Y6B50aaqYjIt"
      }
    },
    {
      "cell_type": "code",
      "source": [
        "# list"
      ],
      "metadata": {
        "id": "-4Uv_hqNX_oB"
      },
      "execution_count": null,
      "outputs": []
    },
    {
      "cell_type": "markdown",
      "source": [
        "**Dictionary description**: Double click to edit"
      ],
      "metadata": {
        "id": "7D3Atkk1YkZ-"
      }
    },
    {
      "cell_type": "code",
      "source": [
        "# dictionary"
      ],
      "metadata": {
        "id": "3gA-HeSNYAWB"
      },
      "execution_count": null,
      "outputs": []
    },
    {
      "cell_type": "markdown",
      "source": [
        "**If, elise, elif statements**: Double click to edit"
      ],
      "metadata": {
        "id": "XlpyVJXaYlpB"
      }
    },
    {
      "cell_type": "code",
      "source": [
        "# if, else, elif statements"
      ],
      "metadata": {
        "id": "VkKcYlCmYA56"
      },
      "execution_count": null,
      "outputs": []
    },
    {
      "cell_type": "markdown",
      "source": [
        "**For loop description**: Double click to edit"
      ],
      "metadata": {
        "id": "7_Cr8Y8QYpl1"
      }
    },
    {
      "cell_type": "code",
      "source": [
        "# for loop"
      ],
      "metadata": {
        "id": "SgoaN4q-YCOl"
      },
      "execution_count": null,
      "outputs": []
    },
    {
      "cell_type": "markdown",
      "source": [
        "**While loop description**: Double click to edit"
      ],
      "metadata": {
        "id": "Y3czGsWGYsfx"
      }
    },
    {
      "cell_type": "code",
      "source": [
        "# while loop"
      ],
      "metadata": {
        "id": "kBFiDGOjYC4B"
      },
      "execution_count": null,
      "outputs": []
    },
    {
      "cell_type": "markdown",
      "source": [
        "**Functions description**: Double click to edit"
      ],
      "metadata": {
        "id": "CxpYfdYrYuJs"
      }
    },
    {
      "cell_type": "code",
      "source": [
        "# functions"
      ],
      "metadata": {
        "id": "Hs0s12mOYDnd"
      },
      "execution_count": null,
      "outputs": []
    },
    {
      "cell_type": "markdown",
      "source": [
        "**Pandas DataFrame description**: Double click to edit"
      ],
      "metadata": {
        "id": "Gx6_vRdsYvTJ"
      }
    },
    {
      "cell_type": "code",
      "source": [
        "# pandas dataframe"
      ],
      "metadata": {
        "id": "38r_ViVmYETG"
      },
      "execution_count": null,
      "outputs": []
    }
  ]
}